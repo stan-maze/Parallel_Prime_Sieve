{
 "cells": [
  {
   "cell_type": "code",
   "execution_count": 11,
   "id": "f141b4d4-f5bd-4c80-b163-48636f99dc1d",
   "metadata": {},
   "outputs": [
    {
     "name": "stdout",
     "output_type": "stream",
     "text": [
      "Overwriting lab/prime_mpi_omp.cpp\n"
     ]
    }
   ],
   "source": [
    "%%writefile lab/prime_mpi_omp.cpp\n",
    "#include \"mpi.h\" \n",
    "#include <stdio.h> \n",
    "#include <math.h> \n",
    "#include <sys/time.h>\n",
    "#include <omp.h>\n",
    "#include <iostream>\n",
    "using namespace std;\n",
    "\n",
    "//数据量\n",
    "constexpr long TotalNumStep = 1024;\n",
    "\n",
    "void exhaust(int* flag_per_rank, int myid, int numprocs, int num_step){\n",
    "    char machine_name[MPI_MAX_PROCESSOR_NAME]; \n",
    "    int namelen;\n",
    "    int is_cpu=true;\n",
    "    int* flag_limit = new int[num_step];\n",
    "    for(int i=1;i<num_step;i++)flag_limit[i]=sqrt(i*numprocs+myid);\n",
    "    MPI_Get_processor_name(machine_name,&namelen);\n",
    "    \n",
    "     #pragma omp target map(from:is_cpu) map(tofrom:flag_per_rank[0:num_step])\n",
    "    {  \n",
    "        \n",
    "        #pragma omp teams distribute parallel for simd\n",
    "        for (int k=0; k< num_step; k++) {\n",
    "            if (k==0) is_cpu=omp_is_initial_device();\n",
    "            //int limit (k*numprocs+myid);\n",
    "            for(int i=2;i<(k*numprocs+myid);i++){\n",
    "                if((k*numprocs+myid)%i==0){\n",
    "                    flag_per_rank[k]=false;\n",
    "                    break;\n",
    "                }\n",
    "            }\n",
    "        }\n",
    "    }\n",
    "    cout << \"Rank \" << myid << \" of \" << numprocs\n",
    "         << \" runs on: \" << machine_name\n",
    "         << \", uses device: \" << (is_cpu?\"CPU\":\"GPU\")\n",
    "         << \"\\n\";\n",
    "}\n",
    "\n",
    "int main(int argc, char* argv[])\n",
    "{\n",
    "    int myid, numprocs; \n",
    "    struct timeval ts,te;\n",
    "    MPI_Status status;\n",
    "    int* flag = new int[TotalNumStep];\n",
    "    for(int i=0;i<TotalNumStep;i++)flag[i]=true;\n",
    "    \n",
    "    MPI_Init(&argc,&argv);\n",
    "    MPI_Comm_rank(MPI_COMM_WORLD,&myid); \n",
    "    MPI_Comm_size(MPI_COMM_WORLD,&numprocs); \n",
    "    gettimeofday(&ts,NULL);\n",
    "    int num_step = TotalNumStep / numprocs;\n",
    "    int* flag_per_rank = new int[num_step];\n",
    "    for(int i=0;i<num_step;i++)flag_per_rank[i] = true;\n",
    "    exhaust(flag_per_rank, myid, numprocs, num_step);\n",
    "    \n",
    "    if(myid==0)\n",
    "    {\n",
    "        int** all_flag_per_rank = new int*[numprocs];\n",
    "        all_flag_per_rank[0] = flag_per_rank;\n",
    "        for(int i=1;i<numprocs;i++){\n",
    "            all_flag_per_rank[i] = new int[num_step];\n",
    "            for(int j=0;j<num_step;j++)all_flag_per_rank[i][j] = true;\n",
    "        }\n",
    "        /*int* flag_per_rank_1 = new int[num_step];\n",
    "        for(int i=0;i<num_step;i++)flag_per_rank_1[i] = true;\n",
    "        int* flag_per_rank_2 = new int[num_step];\n",
    "        for(int i=0;i<num_step;i++)flag_per_rank_2[i] = true;\n",
    "        int* flag_per_rank_3 = new int[num_step];\n",
    "        for(int i=0;i<num_step;i++)flag_per_rank_3[i] = true;*/\n",
    "        \n",
    "        for(int i=1;i<numprocs;i++){\n",
    "            MPI_Recv(all_flag_per_rank[i],num_step,MPI_INT,i,99,MPI_COMM_WORLD, &status);\n",
    "        }\n",
    "        /*MPI_Recv(flag_per_rank_1,num_step,MPI_INT,1,99,MPI_COMM_WORLD, &status);\n",
    "        MPI_Recv(flag_per_rank_2,num_step,MPI_INT,2,99,MPI_COMM_WORLD, &status);\n",
    "        MPI_Recv(flag_per_rank_3,num_step,MPI_INT,3,99,MPI_COMM_WORLD, &status);*/\n",
    "\n",
    "        /*for(int i=0;i<num_step;i++){\n",
    "            flag[i*numprocs+0]=flag_per_rank[i];\n",
    "            flag[i*numprocs+1]=flag_per_rank_1[i];\n",
    "            flag[i*numprocs+2]=flag_per_rank_2[i];\n",
    "            flag[i*numprocs+3]=flag_per_rank_3[i];\n",
    "        }*/\n",
    "        for(int i=0;i<numprocs;i++){\n",
    "            for(int j=0;j<num_step;j++){\n",
    "                flag[j*numprocs+i]=all_flag_per_rank[i][j];\n",
    "            }\n",
    "        }\n",
    "        gettimeofday(&te,NULL);\n",
    "        std::cout<<\"total time: \"<<((te.tv_sec-ts.tv_sec)*1000+(te.tv_usec-ts.tv_usec)/1000)<<\"ms\"<<endl;\n",
    "        for(int i=2;i<TotalNumStep;i++)if(flag[i])cout<<i<<\" \";\n",
    "        cout<<endl;\n",
    "    }\n",
    "    else{\n",
    "        MPI_Send(flag_per_rank,num_step,MPI_INT,0,99,MPI_COMM_WORLD);\n",
    "    }\n",
    "    MPI_Finalize();\n",
    "    return 0;\n",
    "}\n"
   ]
  },
  {
   "cell_type": "code",
   "execution_count": 12,
   "id": "d1531351-921d-4c54-ad17-891b0560ca9e",
   "metadata": {},
   "outputs": [
    {
     "data": {
      "text/plain": [
       "\u001b[0;31m#!/bin/bash\u001b[0m\u001b[0;34m\u001b[0m\n",
       "\u001b[0;34m\u001b[0m\u001b[0msource\u001b[0m \u001b[0;34m/\u001b[0m\u001b[0mopt\u001b[0m\u001b[0;34m/\u001b[0m\u001b[0mintel\u001b[0m\u001b[0;34m/\u001b[0m\u001b[0minteloneapi\u001b[0m\u001b[0;34m/\u001b[0m\u001b[0msetvars\u001b[0m\u001b[0;34m.\u001b[0m\u001b[0msh\u001b[0m \u001b[0;34m>\u001b[0m \u001b[0;34m/\u001b[0m\u001b[0mdev\u001b[0m\u001b[0;34m/\u001b[0m\u001b[0mnull\u001b[0m \u001b[0;36m2\u001b[0m\u001b[0;34m>\u001b[0m\u001b[0;34m&\u001b[0m\u001b[0;36m1\u001b[0m\u001b[0;34m\u001b[0m\n",
       "\u001b[0;34m\u001b[0m\u001b[0;34m/\u001b[0m\u001b[0mbin\u001b[0m\u001b[0;34m/\u001b[0m\u001b[0mecho\u001b[0m \u001b[0;34m\"##\"\u001b[0m\u001b[0;31m \u001b[0m\u001b[0;31m$\u001b[0m\u001b[0;34m(\u001b[0m\u001b[0mwhoami\u001b[0m\u001b[0;34m)\u001b[0m \u001b[0;32mis\u001b[0m \u001b[0mcompiling\u001b[0m\u001b[0;34m\u001b[0m\n",
       "\u001b[0;34m\u001b[0m\u001b[0mmpiicpc\u001b[0m \u001b[0;34m-\u001b[0m\u001b[0mcxx\u001b[0m\u001b[0;34m=\u001b[0m\u001b[0micpx\u001b[0m \u001b[0mlab\u001b[0m\u001b[0;34m/\u001b[0m\u001b[0mprime_mpi_omp\u001b[0m\u001b[0;34m.\u001b[0m\u001b[0mcpp\u001b[0m \u001b[0;34m-\u001b[0m\u001b[0mfiopenmp\u001b[0m \u001b[0;34m-\u001b[0m\u001b[0mfopenmp\u001b[0m\u001b[0;34m-\u001b[0m\u001b[0mtargets\u001b[0m\u001b[0;34m=\u001b[0m\u001b[0mspir64\u001b[0m \u001b[0;34m-\u001b[0m\u001b[0mo\u001b[0m \u001b[0mbin\u001b[0m\u001b[0;34m/\u001b[0m\u001b[0mprime_mpi\u001b[0m\u001b[0;34m.\u001b[0m\u001b[0mx\u001b[0m\u001b[0;34m\u001b[0m\u001b[0;34m\u001b[0m\u001b[0m\n"
      ]
     },
     "metadata": {},
     "output_type": "display_data"
    }
   ],
   "source": [
    "%pycat compile_prime.sh"
   ]
  },
  {
   "cell_type": "code",
   "execution_count": 13,
   "id": "191b514b-b83d-4e81-84bc-91aba43ccb82",
   "metadata": {},
   "outputs": [
    {
     "name": "stdout",
     "output_type": "stream",
     "text": [
      "Job has been submitted to Intel(R) DevCloud with  nodes and will execute soon.\n",
      "\n",
      " If you do not see result in 60 seconds, please restart the Jupyter kernel:\n",
      " Kernel -> 'Restart Kernel and Clear All Outputs...' and then try again\n",
      "\n",
      "Job ID                    Name             User            Time Use S Queue\n",
      "------------------------- ---------------- --------------- -------- - -----\n",
      "2181640.v-qsvr-1           launch.sh        u175062         00:02:09 R batch          \n",
      "2182606.v-qsvr-1           launch.sh        u175062         00:00:00 R batch          \n",
      "2183280.v-qsvr-1           launch.sh        u175062         00:02:36 R batch          \n",
      "2183625.v-qsvr-1           ...ub-singleuser u175062         00:00:05 R jupyterhub     \n",
      "2183645.v-qsvr-1           compile_prime.sh u175062                0 Q batch          \n",
      "\n",
      "Waiting for Output ██████████████████ Done⬇\n",
      "\n",
      "########################################################################\n",
      "#      Date:           Thu 09 Feb 2023 06:49:19 AM PST\n",
      "#    Job ID:           2183645.v-qsvr-1.aidevcloud\n",
      "#      User:           u175062\n",
      "# Resources:           cput=75:00:00,neednodes=1:ppn=2,nodes=1:ppn=2,walltime=06:00:00\n",
      "########################################################################\n",
      "\n",
      "## u175062 is compiling\n",
      "\n",
      "########################################################################\n",
      "# End of output for job 2183645.v-qsvr-1.aidevcloud\n",
      "# Date: Thu 09 Feb 2023 06:49:28 AM PST\n",
      "########################################################################\n",
      "\n",
      "Job Completed in 18 seconds.\n"
     ]
    }
   ],
   "source": [
    "! chmod 755 q; chmod 755 compile_prime.sh; ./q compile_prime.sh nodes=1:ppn=2"
   ]
  },
  {
   "cell_type": "code",
   "execution_count": 14,
   "id": "c7c15cb7-34ce-4e53-9aaa-29cb3689d855",
   "metadata": {},
   "outputs": [
    {
     "data": {
      "text/plain": [
       "\u001b[0;31m#!/bin/bash\u001b[0m\u001b[0;34m\u001b[0m\n",
       "\u001b[0;34m\u001b[0m\u001b[0msource\u001b[0m \u001b[0;34m/\u001b[0m\u001b[0mopt\u001b[0m\u001b[0;34m/\u001b[0m\u001b[0mintel\u001b[0m\u001b[0;34m/\u001b[0m\u001b[0minteloneapi\u001b[0m\u001b[0;34m/\u001b[0m\u001b[0msetvars\u001b[0m\u001b[0;34m.\u001b[0m\u001b[0msh\u001b[0m \u001b[0;34m>\u001b[0m \u001b[0;34m/\u001b[0m\u001b[0mdev\u001b[0m\u001b[0;34m/\u001b[0m\u001b[0mnull\u001b[0m \u001b[0;36m2\u001b[0m\u001b[0;34m>\u001b[0m\u001b[0;34m&\u001b[0m\u001b[0;36m1\u001b[0m\u001b[0;34m\u001b[0m\n",
       "\u001b[0;34m\u001b[0m\u001b[0;34m/\u001b[0m\u001b[0mbin\u001b[0m\u001b[0;34m/\u001b[0m\u001b[0mecho\u001b[0m \u001b[0;34m\"##\"\u001b[0m\u001b[0;31m \u001b[0m\u001b[0;31m$\u001b[0m\u001b[0;34m(\u001b[0m\u001b[0mwhoami\u001b[0m\u001b[0;34m)\u001b[0m \u001b[0;32mis\u001b[0m \u001b[0mexecuting\u001b[0m\u001b[0;34m\u001b[0m\n",
       "\u001b[0;34m\u001b[0m\u001b[0mmpirun\u001b[0m \u001b[0;34m-\u001b[0m\u001b[0mnp\u001b[0m \u001b[0;36m4\u001b[0m \u001b[0mbin\u001b[0m\u001b[0;34m/\u001b[0m\u001b[0mprime_mpi\u001b[0m\u001b[0;34m.\u001b[0m\u001b[0mx\u001b[0m\u001b[0;34m\u001b[0m\u001b[0;34m\u001b[0m\u001b[0m\n"
      ]
     },
     "metadata": {},
     "output_type": "display_data"
    }
   ],
   "source": [
    "%pycat launch.sh"
   ]
  },
  {
   "cell_type": "code",
   "execution_count": 15,
   "id": "81dbebf6-1c8c-4cff-89fa-9e27e4433809",
   "metadata": {},
   "outputs": [
    {
     "name": "stdout",
     "output_type": "stream",
     "text": [
      "Job has been submitted to Intel(R) DevCloud with  nodes and will execute soon.\n",
      "\n",
      " If you do not see result in 60 seconds, please restart the Jupyter kernel:\n",
      " Kernel -> 'Restart Kernel and Clear All Outputs...' and then try again\n",
      "\n",
      "Job ID                    Name             User            Time Use S Queue\n",
      "------------------------- ---------------- --------------- -------- - -----\n",
      "2181640.v-qsvr-1           launch.sh        u175062         00:02:09 R batch          \n",
      "2182606.v-qsvr-1           launch.sh        u175062         00:00:00 R batch          \n",
      "2183280.v-qsvr-1           launch.sh        u175062         00:02:36 R batch          \n",
      "2183625.v-qsvr-1           ...ub-singleuser u175062         00:00:05 R jupyterhub     \n",
      "2183648.v-qsvr-1           launch.sh        u175062                0 Q batch          \n",
      "\n",
      "Waiting for Output ██████████ Done⬇\n",
      "\n",
      "########################################################################\n",
      "#      Date:           Thu 09 Feb 2023 06:49:37 AM PST\n",
      "#    Job ID:           2183648.v-qsvr-1.aidevcloud\n",
      "#      User:           u175062\n",
      "# Resources:           cput=75:00:00,neednodes=2:gpu:ppn=2,nodes=2:gpu:ppn=2,walltime=06:00:00\n",
      "########################################################################\n",
      "\n",
      "## u175062 is executing\n",
      "Rank 1 of 4 runs on: s019-n008, uses device: GPU\n",
      "Rank 0 of 4 runs on: s019-n008, uses device: GPU\n",
      "Rank 3 of 4 runs on: s019-n011, uses device: GPU\n",
      "Rank 2 of 4 runs on: s019-n011, uses device: GPU\n",
      "total time: 694ms\n",
      "2 3 5 7 11 13 17 19 23 29 31 37 41 43 47 53 59 61 67 71 73 79 83 89 97 101 103 107 109 113 127 131 137 139 149 151 157 163 167 173 179 181 191 193 197 199 211 223 227 229 233 239 241 251 257 263 269 271 277 281 283 293 307 311 313 317 331 337 347 349 353 359 367 373 379 383 389 397 401 409 419 421 431 433 439 443 449 457 461 463 467 479 487 491 499 503 509 521 523 541 547 557 563 569 571 577 587 593 599 601 607 613 617 619 631 641 643 647 653 659 661 673 677 683 691 701 709 719 727 733 739 743 751 757 761 769 773 787 797 809 811 821 823 827 829 839 853 857 859 863 877 881 883 887 907 911 919 929 937 941 947 953 967 971 977 983 991 997 1009 1013 1019 1021 \n",
      "\n",
      "########################################################################\n",
      "# End of output for job 2183648.v-qsvr-1.aidevcloud\n",
      "# Date: Thu 09 Feb 2023 06:49:43 AM PST\n",
      "########################################################################\n",
      "\n",
      "Job Completed in 10 seconds.\n"
     ]
    }
   ],
   "source": [
    "! chmod 755 q; chmod 755 launch.sh; ./q launch.sh nodes=2:gpu:ppn=2"
   ]
  },
  {
   "cell_type": "code",
   "execution_count": null,
   "id": "47fbc943-b129-4bc3-bf9f-cc75c439a2cf",
   "metadata": {},
   "outputs": [],
   "source": []
  }
 ],
 "metadata": {
  "kernelspec": {
   "display_name": "Python 3 (Intel® oneAPI 2023.0)",
   "language": "python",
   "name": "c009-intel_distribution_of_python_3_oneapi-beta05-python"
  },
  "language_info": {
   "codemirror_mode": {
    "name": "ipython",
    "version": 3
   },
   "file_extension": ".py",
   "mimetype": "text/x-python",
   "name": "python",
   "nbconvert_exporter": "python",
   "pygments_lexer": "ipython3",
   "version": "3.9.15"
  }
 },
 "nbformat": 4,
 "nbformat_minor": 5
}
